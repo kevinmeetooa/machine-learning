{
 "cells": [
  {
   "cell_type": "markdown",
   "metadata": {},
   "source": [
    "# Rendu TMEs ML - Kevin MEETOOA"
   ]
  },
  {
   "cell_type": "markdown",
   "metadata": {},
   "source": [
    "## TME 1"
   ]
  },
  {
   "cell_type": "code",
   "execution_count": 7,
   "metadata": {},
   "outputs": [
    {
     "name": "stdout",
     "output_type": "stream",
     "text": [
      "Pydot non disponible pour l'affichage graphique, allez sur http://www.webgraphviz.com/ pour generer un apercu de l'arbre\n"
     ]
    }
   ],
   "source": [
    "import numpy as np\n",
    "from collections import Counter\n",
    "import pickle\n",
    "import matplotlib.pyplot as plt\n",
    "try:\n",
    "    import pydot  #pour l'affichage graphique d'arbres\n",
    "except ImportError:\n",
    "    print(\"Pydot non disponible pour l'affichage graphique, allez sur http://www.webgraphviz.com/ pour generer un apercu de l'arbre\")\n",
    "\n",
    "from decisiontree import *"
   ]
  },
  {
   "cell_type": "markdown",
   "metadata": {},
   "source": [
    "### Chargement des données"
   ]
  },
  {
   "cell_type": "code",
   "execution_count": 2,
   "metadata": {},
   "outputs": [],
   "source": [
    "#Q1.3\n",
    "import  pickle\n",
    "import  numpy as np\n",
    "# data : tableau (films ,features), id2titles : dictionnaire  id -> titre ,\n",
    "# fields : id  feature  -> nom\n",
    "[data , id2titles , fields ]= pickle.load(open(\"imdb_extrait.pkl\",\"rb\"))\n",
    "# la  derniere  colonne  est le vote\n",
    "datax=data [: ,:32]\n",
    "datay=np.array ([1 if x[33] >6.5  else  -1 for x in data])"
   ]
  },
  {
   "cell_type": "code",
   "execution_count": 3,
   "metadata": {},
   "outputs": [
    {
     "name": "stdout",
     "output_type": "stream",
     "text": [
      "4587\n",
      "[0.0000e+00 0.0000e+00 0.0000e+00 0.0000e+00 0.0000e+00 1.0000e+00\n",
      " 0.0000e+00 0.0000e+00 0.0000e+00 0.0000e+00 0.0000e+00 0.0000e+00\n",
      " 0.0000e+00 0.0000e+00 0.0000e+00 0.0000e+00 0.0000e+00 0.0000e+00\n",
      " 1.0000e+00 0.0000e+00 0.0000e+00 0.0000e+00 0.0000e+00 1.0000e+00\n",
      " 0.0000e+00 0.0000e+00 0.0000e+00 0.0000e+00 1.0800e+02 2.0000e+00\n",
      " 1.9880e+03 1.2324e+07 4.2062e+04 5.5000e+00]\n",
      "{0: 'Sci-Fi', 1: 'Crime', 2: 'Romance', 3: 'Animation', 4: 'Music', 5: 'Comedy', 6: 'War', 7: 'Horror', 8: 'Film-Noir', 9: 'Adult', 10: 'News', 11: 'Reality-TV', 12: 'Thriller', 13: 'Western', 14: 'Mystery', 15: 'Short', 16: 'Talk-Show', 17: 'Drama', 18: 'Action', 19: 'Documentary', 20: 'Musical', 21: 'History', 22: 'Family', 23: 'Adventure', 24: 'Fantasy', 25: 'Game-Show', 26: 'Sport', 27: 'Biography', 28: 'Duree', 29: 'couleur', 30: 'annee', 31: 'budget', 32: 'nb_votes', 33: 'rating'}\n"
     ]
    }
   ],
   "source": [
    "print(len(datax))\n",
    "print(data[0])\n",
    "print(fields)"
   ]
  },
  {
   "cell_type": "code",
   "execution_count": 4,
   "metadata": {},
   "outputs": [
    {
     "name": "stdout",
     "output_type": "stream",
     "text": [
      "0.9869089469021288\n",
      "Drama\n"
     ]
    }
   ],
   "source": [
    "def entropy(vect):\n",
    "    entropie=0\n",
    "    total = len(vect)\n",
    "    temp = dict(Counter(vect))\n",
    "    for v in temp.values():\n",
    "        p = v/total\n",
    "        entropie += p*np.log(p)\n",
    "    return -entropie\n",
    "\n",
    "\n",
    "def entropy_cond(liste):\n",
    "    taille = 0\n",
    "    res = 0\n",
    "    for vect in liste:\n",
    "        tailleVect = len(vect)\n",
    "        res += tailleVect*entropie(vect)\n",
    "        taille += tailleVect\n",
    "    return res/taille\n",
    "\n",
    "\n",
    "entropieY = entropy(datay)\n",
    "print(entropieY)\n",
    "res=[]\n",
    "for i in range(28):\n",
    "    arrayZeros=datay[np.where(datax[:,i]==0)]\n",
    "    arrayOnes=datay[np.where(datax[:,i]==1)]\n",
    "    entropieCond=entropy_cond([arrayZeros,arrayOnes])\n",
    "    res.append(entropieCond)\n",
    "print(fields[np.argmin(res)])"
   ]
  },
  {
   "cell_type": "code",
   "execution_count": 24,
   "metadata": {},
   "outputs": [
    {
     "data": {
      "image/png": "[encoded data removed]",
      "text/plain": [
       "<Figure size 432x288 with 1 Axes>"
      ]
     },
     "metadata": {
      "needs_background": "light"
     },
     "output_type": "display_data"
    }
   ],
   "source": [
    "def plotnosplit(datax,datay):\n",
    "    arrayDepths=list(range(1,12))\n",
    "    dt = DecisionTree()\n",
    "    arrayScore=[]\n",
    "    for depth in arrayDepths:\n",
    "        dt.max_depth=depth\n",
    "        dt.fit(datax,datay)\n",
    "        score=dt.score(datatest,labeltest)\n",
    "        arrayScore.append(score)\n",
    "    plt.plot(arrayDepths,arrayScore)\n",
    "    plt.xlabel(\"Profondeur\")\n",
    "    plt.ylabel(\"Score\")\n",
    "    plt.title(\"Scores sans split\")\n",
    "    \n",
    "plotnosplit(datax,datay)"
   ]
  },
  {
   "cell_type": "markdown",
   "metadata": {},
   "source": [
    "On remarque que les scores augmentent avec la profondeur.\n",
    "Cela est dû au fait que l'on évalue les performances en test avec les mêmes données qui ont servi pour l'apprentissage.\n",
    "\n",
    "Notre modèle est donc un modèle qui apprend les données \"par coeur\": Cela produit un effet de sur-apprentissage.\n",
    "\n",
    "Pour palier à ce problème, il faut séparer l'ensemble de données en deux ensembles disjoints: Un ensemble d'entraînement et un ensemble de test."
   ]
  },
  {
   "cell_type": "markdown",
   "metadata": {},
   "source": [
    "### Séparation des données en deux ensembles"
   ]
  },
  {
   "cell_type": "code",
   "execution_count": 17,
   "metadata": {},
   "outputs": [],
   "source": [
    "def split(datax,datay,percentage):\n",
    "    if percentage<=0 or percentage>=1:\n",
    "        return\n",
    "    coupe=int(len(data)*percentage)\n",
    "    datatrain=datax[:coupe]\n",
    "    datatest=datax[coupe:]\n",
    "    labeltrain=datay[:coupe]\n",
    "    labeltest=datay[coupe:]\n",
    "    c = list(zip(datatrain, labeltrain))\n",
    "    np.random.shuffle(c)\n",
    "    trainx, trainy = zip(*c)\n",
    "    c = list(zip(datatest, labeltest))\n",
    "    np.random.shuffle(c)\n",
    "    trainx, trainy = zip(*c)\n",
    "    return datatrain,labeltrain,datatest,labeltest"
   ]
  },
  {
   "cell_type": "code",
   "execution_count": 15,
   "metadata": {},
   "outputs": [],
   "source": [
    "def plot(datax,datay,percentage):\n",
    "    arrayDepths=list(range(1,12))\n",
    "    dt = DecisionTree()\n",
    "    arrayScore=[]\n",
    "    for depth in arrayDepths:\n",
    "        score=0\n",
    "        for i in range(3):\n",
    "            datatrain,labeltrain,datatest,labeltest=split(datax,datay,percentage)\n",
    "            dt.max_depth=depth\n",
    "            dt.fit(datatrain,labeltrain)\n",
    "            score+=dt.score(datatest,labeltest)\n",
    "        score/=3\n",
    "        arrayScore.append(score)\n",
    "    plt.plot(arrayDepths,arrayScore,label=percentage)\n",
    "    plt.xlabel(\"Profondeur\")\n",
    "    plt.ylabel(\"Score\")\n",
    "    plt.title(\"Comparaison des proportions train/test\")\n",
    "    plt.legend()"
   ]
  },
  {
   "cell_type": "code",
   "execution_count": 16,
   "metadata": {},
   "outputs": [
    {
     "data": {
      "image/png": "[encoded data removed]",
      "text/plain": [
       "<Figure size 432x288 with 1 Axes>"
      ]
     },
     "metadata": {
      "needs_background": "light"
     },
     "output_type": "display_data"
    }
   ],
   "source": [
    "plot(datax,datay,0.2)\n",
    "plot(datax,datay,0.5)\n",
    "plot(datax,datay,0.8)"
   ]
  },
  {
   "cell_type": "markdown",
   "metadata": {},
   "source": [
    "On remarque que les performances obtenues avec des ensembles d'entrainement de taille 50 et 80% (par rapport à l'ensemble des données) sont meilleures que celles obtenues avec l'ensemble de taille 20%.\n",
    "\n",
    "Cependant, l'ensemble de taille 80% n'apporte pas de réelle amélioration par rapport à l'ensemble de taille 50%: Les performances de l'ensemble 50% sont même meilleures dans certains cas.\n",
    "\n",
    "Ainsi, un ensemble d'entraînement de taille 50% semble être un bon compromis.\n",
    "\n",
    "De plus, on remarque que lorsque la profondeur est trop grande (>8), les scores diminuent: Il s'agit du sur-apprentissage.\n",
    "De même, une profondeur trop faible (<5) conduit à un sous-apprentissage.\n",
    "Il faut donc trouver un bon compromis entre sous-apprentissage et sur-apprentissage. Une profondeur comprise entre 5 et 8 semble donner les meilleurs scores.\n",
    "\n",
    "Lorsque l'on ne dispose pas d'un grand nombre de données, on peut faire encore mieux qu'un split en utilisant une validation croisée: On sépare les données en $n$ folds et on apprend sur $n-1$ folds pour ensuite évaluer les scores sur le fold restant.\n",
    "\n",
    "On effectue cette opération $n$ fois afin de tester toutes les combinaisons possibles dans le but de garder la combinaison renvoyant les meilleurs résultats."
   ]
  },
  {
   "cell_type": "markdown",
   "metadata": {},
   "source": [
    "### Validation croisée"
   ]
  },
  {
   "cell_type": "code",
   "execution_count": 20,
   "metadata": {},
   "outputs": [],
   "source": [
    "def validationCroisee(data,n):\n",
    "    np.random.shuffle(data)\n",
    "    coupe=int(len(data)/n)\n",
    "    arrayDepths=list(range(1,12))\n",
    "    dt = DecisionTree()\n",
    "    arrayScore=[]\n",
    "    for depth in arrayDepths:\n",
    "        print(\"Depth: \"+str(depth))\n",
    "        scoreMoyen=0\n",
    "        for i in range(n):\n",
    "            trainingx=[]\n",
    "            trainingy=[]\n",
    "            for j in range(n):\n",
    "                if (i!=j):\n",
    "                    currentData=data[j*coupe:(j+1)*coupe]\n",
    "                    datax = currentData[:, :32]\n",
    "                    datay = np.array([1 if x [33] >6.5 else -1 for x in currentData ])\n",
    "                    if (len(trainingx)==0):\n",
    "                        trainingx=datax\n",
    "                        trainingy=datay\n",
    "                    else:\n",
    "                        trainingx = np.concatenate((trainingx,datax))\n",
    "                        trainingy = np.concatenate((trainingy,datay))\n",
    "            dt.max_depth=depth\n",
    "            dt.fit(trainingx,trainingy)\n",
    "            dataTest=data[i*coupe:(i+1)*coupe]\n",
    "            dataTestx = currentData[:, :32]\n",
    "            dataTesty = np.array([1 if x [33] >6.5 else -1 for x in currentData ])\n",
    "            score=dt.score(dataTestx,dataTesty)\n",
    "            scoreMoyen+=score\n",
    "        scoreMoyen/=n\n",
    "        arrayScore.append(scoreMoyen)\n",
    "    plt.plot(arrayDepths,arrayScore)\n",
    "    plt.xlabel(\"Profondeur\")\n",
    "    plt.ylabel(\"Score\")\n",
    "    plt.title(\"Scores en validation croisée\")\n",
    "    plt.legend()\n",
    "    plt.show()"
   ]
  },
  {
   "cell_type": "code",
   "execution_count": 21,
   "metadata": {},
   "outputs": [
    {
     "name": "stdout",
     "output_type": "stream",
     "text": [
      "Depth: 1\n",
      "Depth: 2\n",
      "Depth: 3\n",
      "Depth: 4\n",
      "Depth: 5\n",
      "Depth: 6\n",
      "Depth: 7\n",
      "Depth: 8\n",
      "Depth: 9\n",
      "Depth: 10\n",
      "Depth: 11\n"
     ]
    },
    {
     "name": "stderr",
     "output_type": "stream",
     "text": [
      "No handles with labels found to put in legend.\n"
     ]
    },
    {
     "data": {
      "image/png": "[encoded data removed]",
      "text/plain": [
       "<Figure size 432x288 with 1 Axes>"
      ]
     },
     "metadata": {
      "needs_background": "light"
     },
     "output_type": "display_data"
    }
   ],
   "source": [
    "validationCroisee(data,5)"
   ]
  },
  {
   "cell_type": "markdown",
   "metadata": {},
   "source": [
    "Les résultats sont concluants: Le score augmente bien lorsque la profondeur augmente."
   ]
  },
  {
   "cell_type": "code",
   "execution_count": null,
   "metadata": {},
   "outputs": [],
   "source": []
  }
 ],
 "metadata": {
  "kernelspec": {
   "display_name": "Python 3",
   "language": "python",
   "name": "python3"
  },
  "language_info": {
   "codemirror_mode": {
    "name": "ipython",
    "version": 3
   },
   "file_extension": ".py",
   "mimetype": "text/x-python",
   "name": "python",
   "nbconvert_exporter": "python",
   "pygments_lexer": "ipython3",
   "version": "3.7.1"
  }
 },
 "nbformat": 4,
 "nbformat_minor": 2
}
